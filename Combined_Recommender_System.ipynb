{
 "cells": [
  {
   "cell_type": "code",
   "execution_count": 2,
   "id": "6ae2558f-cf84-4119-8f4c-5880f479532b",
   "metadata": {},
   "outputs": [
    {
     "name": "stdout",
     "output_type": "stream",
     "text": [
      "Requirement already satisfied: pandas in d:\\work apps\\anaconda dont\\lib\\site-packages (2.2.3)\n",
      "Requirement already satisfied: numpy in d:\\work apps\\anaconda dont\\lib\\site-packages (2.1.3)\n",
      "Requirement already satisfied: matplotlib in d:\\work apps\\anaconda dont\\lib\\site-packages (3.10.0)\n",
      "Requirement already satisfied: seaborn in d:\\work apps\\anaconda dont\\lib\\site-packages (0.13.2)\n",
      "Requirement already satisfied: scikit-learn in d:\\work apps\\anaconda dont\\lib\\site-packages (1.6.1)\n",
      "Requirement already satisfied: openpyxl in d:\\work apps\\anaconda dont\\lib\\site-packages (3.1.5)\n",
      "Requirement already satisfied: streamlit in d:\\work apps\\anaconda dont\\lib\\site-packages (1.45.1)\n",
      "Requirement already satisfied: python-dateutil>=2.8.2 in d:\\work apps\\anaconda dont\\lib\\site-packages (from pandas) (2.9.0.post0)\n",
      "Requirement already satisfied: pytz>=2020.1 in d:\\work apps\\anaconda dont\\lib\\site-packages (from pandas) (2024.1)\n",
      "Requirement already satisfied: tzdata>=2022.7 in d:\\work apps\\anaconda dont\\lib\\site-packages (from pandas) (2025.2)\n",
      "Requirement already satisfied: contourpy>=1.0.1 in d:\\work apps\\anaconda dont\\lib\\site-packages (from matplotlib) (1.3.1)\n",
      "Requirement already satisfied: cycler>=0.10 in d:\\work apps\\anaconda dont\\lib\\site-packages (from matplotlib) (0.11.0)\n",
      "Requirement already satisfied: fonttools>=4.22.0 in d:\\work apps\\anaconda dont\\lib\\site-packages (from matplotlib) (4.55.3)\n",
      "Requirement already satisfied: kiwisolver>=1.3.1 in d:\\work apps\\anaconda dont\\lib\\site-packages (from matplotlib) (1.4.8)\n",
      "Requirement already satisfied: packaging>=20.0 in d:\\work apps\\anaconda dont\\lib\\site-packages (from matplotlib) (24.2)\n",
      "Requirement already satisfied: pillow>=8 in d:\\work apps\\anaconda dont\\lib\\site-packages (from matplotlib) (11.1.0)\n",
      "Requirement already satisfied: pyparsing>=2.3.1 in d:\\work apps\\anaconda dont\\lib\\site-packages (from matplotlib) (3.2.0)\n",
      "Requirement already satisfied: scipy>=1.6.0 in d:\\work apps\\anaconda dont\\lib\\site-packages (from scikit-learn) (1.15.3)\n",
      "Requirement already satisfied: joblib>=1.2.0 in d:\\work apps\\anaconda dont\\lib\\site-packages (from scikit-learn) (1.4.2)\n",
      "Requirement already satisfied: threadpoolctl>=3.1.0 in d:\\work apps\\anaconda dont\\lib\\site-packages (from scikit-learn) (3.5.0)\n",
      "Requirement already satisfied: et-xmlfile in d:\\work apps\\anaconda dont\\lib\\site-packages (from openpyxl) (1.1.0)\n",
      "Requirement already satisfied: altair<6,>=4.0 in d:\\work apps\\anaconda dont\\lib\\site-packages (from streamlit) (5.5.0)\n",
      "Requirement already satisfied: blinker<2,>=1.5.0 in d:\\work apps\\anaconda dont\\lib\\site-packages (from streamlit) (1.9.0)\n",
      "Requirement already satisfied: cachetools<6,>=4.0 in d:\\work apps\\anaconda dont\\lib\\site-packages (from streamlit) (5.5.1)\n",
      "Requirement already satisfied: click<9,>=7.0 in d:\\work apps\\anaconda dont\\lib\\site-packages (from streamlit) (8.1.8)\n",
      "Requirement already satisfied: protobuf<7,>=3.20 in d:\\work apps\\anaconda dont\\lib\\site-packages (from streamlit) (5.29.3)\n",
      "Requirement already satisfied: pyarrow>=7.0 in d:\\work apps\\anaconda dont\\lib\\site-packages (from streamlit) (19.0.0)\n",
      "Requirement already satisfied: requests<3,>=2.27 in d:\\work apps\\anaconda dont\\lib\\site-packages (from streamlit) (2.32.3)\n",
      "Requirement already satisfied: tenacity<10,>=8.1.0 in d:\\work apps\\anaconda dont\\lib\\site-packages (from streamlit) (9.0.0)\n",
      "Requirement already satisfied: toml<2,>=0.10.1 in d:\\work apps\\anaconda dont\\lib\\site-packages (from streamlit) (0.10.2)\n",
      "Requirement already satisfied: typing-extensions<5,>=4.4.0 in d:\\work apps\\anaconda dont\\lib\\site-packages (from streamlit) (4.12.2)\n",
      "Requirement already satisfied: watchdog<7,>=2.1.5 in d:\\work apps\\anaconda dont\\lib\\site-packages (from streamlit) (4.0.2)\n",
      "Requirement already satisfied: gitpython!=3.1.19,<4,>=3.0.7 in d:\\work apps\\anaconda dont\\lib\\site-packages (from streamlit) (3.1.43)\n",
      "Requirement already satisfied: tornado<7,>=6.0.3 in d:\\work apps\\anaconda dont\\lib\\site-packages (from streamlit) (6.5.1)\n",
      "Requirement already satisfied: jinja2 in d:\\work apps\\anaconda dont\\lib\\site-packages (from altair<6,>=4.0->streamlit) (3.1.6)\n",
      "Requirement already satisfied: jsonschema>=3.0 in d:\\work apps\\anaconda dont\\lib\\site-packages (from altair<6,>=4.0->streamlit) (4.23.0)\n",
      "Requirement already satisfied: narwhals>=1.14.2 in d:\\work apps\\anaconda dont\\lib\\site-packages (from altair<6,>=4.0->streamlit) (1.31.0)\n",
      "Requirement already satisfied: colorama in d:\\work apps\\anaconda dont\\lib\\site-packages (from click<9,>=7.0->streamlit) (0.4.6)\n",
      "Requirement already satisfied: gitdb<5,>=4.0.1 in d:\\work apps\\anaconda dont\\lib\\site-packages (from gitpython!=3.1.19,<4,>=3.0.7->streamlit) (4.0.7)\n",
      "Requirement already satisfied: smmap<5,>=3.0.1 in d:\\work apps\\anaconda dont\\lib\\site-packages (from gitdb<5,>=4.0.1->gitpython!=3.1.19,<4,>=3.0.7->streamlit) (4.0.0)\n",
      "Requirement already satisfied: charset-normalizer<4,>=2 in d:\\work apps\\anaconda dont\\lib\\site-packages (from requests<3,>=2.27->streamlit) (3.3.2)\n",
      "Requirement already satisfied: idna<4,>=2.5 in d:\\work apps\\anaconda dont\\lib\\site-packages (from requests<3,>=2.27->streamlit) (3.7)\n",
      "Requirement already satisfied: urllib3<3,>=1.21.1 in d:\\work apps\\anaconda dont\\lib\\site-packages (from requests<3,>=2.27->streamlit) (2.3.0)\n",
      "Requirement already satisfied: certifi>=2017.4.17 in d:\\work apps\\anaconda dont\\lib\\site-packages (from requests<3,>=2.27->streamlit) (2025.4.26)\n",
      "Requirement already satisfied: attrs>=22.2.0 in d:\\work apps\\anaconda dont\\lib\\site-packages (from jsonschema>=3.0->altair<6,>=4.0->streamlit) (24.3.0)\n",
      "Requirement already satisfied: jsonschema-specifications>=2023.03.6 in d:\\work apps\\anaconda dont\\lib\\site-packages (from jsonschema>=3.0->altair<6,>=4.0->streamlit) (2023.7.1)\n",
      "Requirement already satisfied: referencing>=0.28.4 in d:\\work apps\\anaconda dont\\lib\\site-packages (from jsonschema>=3.0->altair<6,>=4.0->streamlit) (0.30.2)\n",
      "Requirement already satisfied: rpds-py>=0.7.1 in d:\\work apps\\anaconda dont\\lib\\site-packages (from jsonschema>=3.0->altair<6,>=4.0->streamlit) (0.22.3)\n",
      "Requirement already satisfied: six>=1.5 in d:\\work apps\\anaconda dont\\lib\\site-packages (from python-dateutil>=2.8.2->pandas) (1.17.0)\n",
      "Requirement already satisfied: MarkupSafe>=2.0 in d:\\work apps\\anaconda dont\\lib\\site-packages (from jinja2->altair<6,>=4.0->streamlit) (3.0.2)\n"
     ]
    }
   ],
   "source": [
    "!pip install pandas numpy matplotlib seaborn scikit-learn openpyxl streamlit"
   ]
  },
  {
   "cell_type": "code",
   "execution_count": 3,
   "id": "c0b79763-1366-4371-928e-e52cd1b99abc",
   "metadata": {},
   "outputs": [],
   "source": [
    "# Import libraries (combined)\n",
    "import pandas as pd\n",
    "import numpy as np\n",
    "import matplotlib.pyplot as plt\n",
    "import seaborn as sns\n",
    "from sklearn.feature_extraction.text import TfidfVectorizer\n",
    "from sklearn.metrics.pairwise import cosine_similarity, linear_kernel\n",
    "import streamlit as st"
   ]
  },
  {
   "cell_type": "code",
   "execution_count": 6,
   "id": "5f824f89-0a09-4ffc-ad83-b798aaaaae20",
   "metadata": {},
   "outputs": [
    {
     "name": "stderr",
     "output_type": "stream",
     "text": [
      "2025-08-31 04:05:09.441 Thread 'MainThread': missing ScriptRunContext! This warning can be ignored when running in bare mode.\n",
      "2025-08-31 04:05:09.442 Thread 'MainThread': missing ScriptRunContext! This warning can be ignored when running in bare mode.\n",
      "2025-08-31 04:05:09.443 Thread 'MainThread': missing ScriptRunContext! This warning can be ignored when running in bare mode.\n",
      "2025-08-31 04:05:09.443 Thread 'MainThread': missing ScriptRunContext! This warning can be ignored when running in bare mode.\n"
     ]
    },
    {
     "data": {
      "text/plain": [
       "DeltaGenerator()"
      ]
     },
     "execution_count": 6,
     "metadata": {},
     "output_type": "execute_result"
    }
   ],
   "source": [
    "# --- Section 1: Simple Recommender (Popularity/Weighted Score) --- #streamlit stuff\n",
    "st.title(\"Combined Book Recommender System\")\n",
    "st.header(\"Section 1: Simple Recommender (Popularity/Weighted Score)\")"
   ]
  },
  {
   "cell_type": "code",
   "execution_count": 8,
   "id": "e7d04976-35c0-428b-b02a-7928490ee841",
   "metadata": {},
   "outputs": [],
   "source": [
    "#import csvs we have\n",
    "ratings = pd.read_csv('Ratings.csv', encoding='cp1252')\n",
    "books   = pd.read_csv('Books.csv',   encoding='cp1252')\n",
    "data = pd.merge(ratings, books, on='book_id')"
   ]
  },
  {
   "cell_type": "code",
   "execution_count": 9,
   "id": "6da846ee-31d3-40c1-9c7c-9ee5b63d4a4e",
   "metadata": {},
   "outputs": [],
   "source": [
    "# Calculate mean and count of ratings\n",
    "ratings_mean_count = data.groupby('title')['rating'].agg(['mean', 'count']).reset_index()"
   ]
  },
  {
   "cell_type": "code",
   "execution_count": 10,
   "id": "f33fe854-bb4c-407b-b4e0-18d3fd7a5962",
   "metadata": {},
   "outputs": [],
   "source": [
    "# Calculate C (mean rating across all books)\n",
    "C = ratings_mean_count['mean'].mean()"
   ]
  },
  {
   "cell_type": "code",
   "execution_count": 11,
   "id": "6e55d53c-075c-44eb-b72a-e507f6835d70",
   "metadata": {},
   "outputs": [],
   "source": [
    "# Calculate m (minimum votes for 90th percentile)\n",
    "m = ratings_mean_count['count'].quantile(0.90)"
   ]
  },
  {
   "cell_type": "code",
   "execution_count": 19,
   "id": "92f58003-37e1-4aa0-8ec9-4eaf43565022",
   "metadata": {},
   "outputs": [],
   "source": [
    "# Filter qualified books\n",
    "qualified = ratings_mean_count[ratings_mean_count['count'] >= m]"
   ]
  },
  {
   "cell_type": "code",
   "execution_count": 23,
   "id": "93b3475b-49fe-4984-81bc-5a81f1dcd868",
   "metadata": {},
   "outputs": [],
   "source": [
    "# Function for weighted rating (IMDB formula styled)\n",
    "def weighted_rating(x, m=m, C=C):\n",
    "    v = x['count']\n",
    "    R = x['mean']\n",
    "    return (v / (v + m) * R) + (m / (m + v) * C)"
   ]
  },
  {
   "cell_type": "code",
   "execution_count": 25,
   "id": "2fa6266e-5080-4eb1-b8cf-abc233235cd3",
   "metadata": {},
   "outputs": [],
   "source": [
    "# Compute weighted scores\n",
    "qualified.loc[:, 'weighted_score'] = qualified.apply(weighted_rating, axis=1)"
   ]
  },
  {
   "cell_type": "code",
   "execution_count": 26,
   "id": "5e9261d8-5ab8-4e9f-a5cf-adeecf1a81ad",
   "metadata": {},
   "outputs": [],
   "source": [
    "# Sort and get Top 10\n",
    "top_books = qualified.sort_values('weighted_score', ascending=False).head(10)"
   ]
  },
  {
   "cell_type": "code",
   "execution_count": 27,
   "id": "51814784-7e55-4884-824e-e33e82a6b495",
   "metadata": {},
   "outputs": [
    {
     "name": "stderr",
     "output_type": "stream",
     "text": [
      "2025-08-31 04:15:44.482 Thread 'MainThread': missing ScriptRunContext! This warning can be ignored when running in bare mode.\n",
      "2025-08-31 04:15:44.483 Thread 'MainThread': missing ScriptRunContext! This warning can be ignored when running in bare mode.\n",
      "2025-08-31 04:15:44.484 Thread 'MainThread': missing ScriptRunContext! This warning can be ignored when running in bare mode.\n",
      "2025-08-31 04:15:44.488 Thread 'MainThread': missing ScriptRunContext! This warning can be ignored when running in bare mode.\n",
      "2025-08-31 04:15:44.489 Thread 'MainThread': missing ScriptRunContext! This warning can be ignored when running in bare mode.\n"
     ]
    },
    {
     "data": {
      "text/plain": [
       "DeltaGenerator()"
      ]
     },
     "execution_count": 27,
     "metadata": {},
     "output_type": "execute_result"
    }
   ],
   "source": [
    "# Display in Streamlit\n",
    "st.write(\"Top 10 Books:\")\n",
    "st.table(top_books[['title', 'mean', 'count', 'weighted_score']])"
   ]
  },
  {
   "cell_type": "code",
   "execution_count": 28,
   "id": "cc1bed05-beec-4e33-9380-95f72d138215",
   "metadata": {},
   "outputs": [
    {
     "name": "stderr",
     "output_type": "stream",
     "text": [
      "2025-08-31 04:15:53.712 Thread 'MainThread': missing ScriptRunContext! This warning can be ignored when running in bare mode.\n",
      "2025-08-31 04:15:53.713 Thread 'MainThread': missing ScriptRunContext! This warning can be ignored when running in bare mode.\n"
     ]
    }
   ],
   "source": [
    "# --- Section 2: Content-Based Recommender (Genre/Description Similarity) ---\n",
    "st.header(\"Section 2: Content-Based Recommender (Genre/Description Similarity)\")\n",
    "books['features'] = books['genre'] + ' ' + books['description'].fillna('')"
   ]
  },
  {
   "cell_type": "code",
   "execution_count": 29,
   "id": "0aa7c626-b1bc-4f55-a2ee-1880f93785aa",
   "metadata": {},
   "outputs": [],
   "source": [
    "# basically turns the book 'features' text into numbers (TF-IDF) so we can compare how similar the books are\n",
    "tfidf = TfidfVectorizer(stop_words='english')\n",
    "tfidf_matrix = tfidf.fit_transform(books['features'])"
   ]
  },
  {
   "cell_type": "code",
   "execution_count": 30,
   "id": "f3f03832-54ea-4ad4-9e84-39882e80f3cb",
   "metadata": {},
   "outputs": [],
   "source": [
    "# figuring out how close the texts are to each other (so we can compare or recommend da bookies)\n",
    "cosine_sim = linear_kernel(tfidf_matrix, tfidf_matrix)"
   ]
  },
  {
   "cell_type": "code",
   "execution_count": 31,
   "id": "0232e936-24cd-4fa2-bae8-8d08859ccd97",
   "metadata": {},
   "outputs": [],
   "source": [
    "#  so that can type a book name and it points it in da list\n",
    "indices = pd.Series(books.index, index=books['title']).drop_duplicates()"
   ]
  },
  {
   "cell_type": "code",
   "execution_count": 40,
   "id": "2075c515-7cde-4ea8-980e-9b6ada6550dd",
   "metadata": {},
   "outputs": [],
   "source": [
    "# Recommendation function\n",
    "def get_recommendations(title, cosine_sim=cosine_sim):\n",
    "    idx = indices[title]\n",
    "    sim_scores = list(enumerate(cosine_sim[idx]))\n",
    "    sim_scores = sorted(sim_scores, key=lambda x: x[1], reverse=True)[1:6]  # Top 5\n",
    "    movie_indices = [i[0] for i in sim_scores]\n",
    "    return books['title'].iloc[movie_indices]"
   ]
  },
  {
   "cell_type": "code",
   "execution_count": 41,
   "id": "c80b26d8-a3b4-4b03-8e7d-c9f7e3537403",
   "metadata": {},
   "outputs": [
    {
     "name": "stderr",
     "output_type": "stream",
     "text": [
      "2025-08-31 04:20:05.655 Thread 'MainThread': missing ScriptRunContext! This warning can be ignored when running in bare mode.\n",
      "2025-08-31 04:20:05.655 Thread 'MainThread': missing ScriptRunContext! This warning can be ignored when running in bare mode.\n",
      "2025-08-31 04:20:05.656 Thread 'MainThread': missing ScriptRunContext! This warning can be ignored when running in bare mode.\n",
      "2025-08-31 04:20:05.656 Thread 'MainThread': missing ScriptRunContext! This warning can be ignored when running in bare mode.\n",
      "2025-08-31 04:20:05.657 Thread 'MainThread': missing ScriptRunContext! This warning can be ignored when running in bare mode.\n",
      "2025-08-31 04:20:05.657 Thread 'MainThread': missing ScriptRunContext! This warning can be ignored when running in bare mode.\n",
      "2025-08-31 04:20:05.658 Thread 'MainThread': missing ScriptRunContext! This warning can be ignored when running in bare mode.\n",
      "2025-08-31 04:20:05.658 Thread 'MainThread': missing ScriptRunContext! This warning can be ignored when running in bare mode.\n",
      "2025-08-31 04:20:05.659 Thread 'MainThread': missing ScriptRunContext! This warning can be ignored when running in bare mode.\n",
      "2025-08-31 04:20:05.659 Thread 'MainThread': missing ScriptRunContext! This warning can be ignored when running in bare mode.\n",
      "2025-08-31 04:20:05.659 Thread 'MainThread': missing ScriptRunContext! This warning can be ignored when running in bare mode.\n",
      "2025-08-31 04:20:05.660 Thread 'MainThread': missing ScriptRunContext! This warning can be ignored when running in bare mode.\n",
      "2025-08-31 04:20:05.661 Thread 'MainThread': missing ScriptRunContext! This warning can be ignored when running in bare mode.\n",
      "2025-08-31 04:20:05.661 Thread 'MainThread': missing ScriptRunContext! This warning can be ignored when running in bare mode.\n",
      "2025-08-31 04:20:05.661 Thread 'MainThread': missing ScriptRunContext! This warning can be ignored when running in bare mode.\n",
      "2025-08-31 04:20:05.662 Thread 'MainThread': missing ScriptRunContext! This warning can be ignored when running in bare mode.\n",
      "2025-08-31 04:20:05.662 Thread 'MainThread': missing ScriptRunContext! This warning can be ignored when running in bare mode.\n"
     ]
    }
   ],
   "source": [
    "# Streamlit UI for Content-Based\n",
    "book_input_cb = st.text_input(\"Content-Based Book Title\", \"Harry Potter and the Sorcerer's Stone\")\n",
    "if st.button(\"Get Content-Based Recommendations\"):\n",
    "    try:\n",
    "        recs_cb = get_recommendations(book_input_cb)\n",
    "        for rec in recs_cb:\n",
    "            st.write(rec)\n",
    "    except KeyError:\n",
    "        st.write(\"Book not found, check spelling.\")\n",
    "st.write(\"Example titles:\", books['title'].head().to_list())"
   ]
  },
  {
   "cell_type": "code",
   "execution_count": 42,
   "id": "226aa83a-6094-4e7c-9cc2-017bdba243b4",
   "metadata": {},
   "outputs": [
    {
     "name": "stderr",
     "output_type": "stream",
     "text": [
      "2025-08-31 04:20:06.024 Thread 'MainThread': missing ScriptRunContext! This warning can be ignored when running in bare mode.\n",
      "2025-08-31 04:20:06.024 Thread 'MainThread': missing ScriptRunContext! This warning can be ignored when running in bare mode.\n"
     ]
    },
    {
     "data": {
      "text/plain": [
       "DeltaGenerator()"
      ]
     },
     "execution_count": 42,
     "metadata": {},
     "output_type": "execute_result"
    }
   ],
   "source": [
    "# --- Section 3: Collaborative Filtering (People who liked X also liked…) ---\n",
    "st.header(\"Section 3: Collaborative Filtering (People who liked X also liked…)\")"
   ]
  },
  {
   "cell_type": "code",
   "execution_count": 43,
   "id": "b780990e-0423-4c5c-a799-e6df379e486a",
   "metadata": {},
   "outputs": [],
   "source": [
    "# only keep people who rated 3+ books and books that got 5+ ratings (so we can trust the data for recommendations)\n",
    "num_ratings_per_user = data.groupby('user_id').size()   # count how many books each person rated (find who actually uses the system)\n",
    "active_users = num_ratings_per_user[num_ratings_per_user >= 3].index   # keep people with at least 3 ratings for active guys\n",
    "num_ratings_per_book = data.groupby('book_id').size()   # count how many ratings each book has most attention\n",
    "popular_books = num_ratings_per_book[num_ratings_per_book >= 5].index  # keep books with at least 5 ratings (so we don’t recommend books nobody cared about)\n",
    "filtered_data = data[data['user_id'].isin(active_users) & data['book_id'].isin(popular_books)]  # final dataset with reliable users + popular books (alot trustabe source)"
   ]
  },
  {
   "cell_type": "code",
   "execution_count": 44,
   "id": "b574e18d-af92-4ebd-84bb-641f1112e7e9",
   "metadata": {},
   "outputs": [],
   "source": [
    "# Create pivot table (to line up books vs users so we can compare ratings) since row=book, column=user and cell = rating \n",
    "bookmatrix = filtered_data.pivot_table(index='title', columns='user_id', values='rating').fillna(0)\n"
   ]
  },
  {
   "cell_type": "code",
   "execution_count": 45,
   "id": "c5b156cc-8042-4e1f-94d8-c419d51b8a0e",
   "metadata": {},
   "outputs": [],
   "source": [
    "# to compute similarity\n",
    "similarity_scores = cosine_similarity(bookmatrix)"
   ]
  },
  {
   "cell_type": "code",
   "execution_count": 49,
   "id": "6b5c440f-fc33-412c-9ef1-9b32714f8e73",
   "metadata": {},
   "outputs": [],
   "source": [
    "# Recommendation function: If you give me a book name, it will find in the ratings matrix,\n",
    "#check which books have the most similar rating patterns, and then give you a list of the top 4 most similar books w authors.\n",
    "#If the book isn’t in the data, I’ll just tell you no recommendations are available.\n",
    "def recommend(book_name):\n",
    "    try:\n",
    "        index = np.where(bookmatrix.index == book_name)[0][0]\n",
    "        similar_items = sorted(list(enumerate(similarity_scores[index])), key=lambda x: x[1], reverse=True)[1:5]\n",
    "        data = []\n",
    "        for i in similar_items:\n",
    "            item = []\n",
    "            temp_df = books[books['title'] == bookmatrix.index[i[0]]]\n",
    "            item.extend(list(temp_df.drop_duplicates('title')['title'].values))\n",
    "            item.extend(list(temp_df.drop_duplicates('title')['AUTHOR'].values))\n",
    "            data.append(item)\n",
    "        return data\n",
    "    except:\n",
    "        return \"Book not found or no recommendations available.\""
   ]
  },
  {
   "cell_type": "code",
   "execution_count": 50,
   "id": "a4bc03da-7978-4f5c-a659-dc91f5e07042",
   "metadata": {},
   "outputs": [
    {
     "name": "stderr",
     "output_type": "stream",
     "text": [
      "2025-08-31 04:21:36.541 Thread 'MainThread': missing ScriptRunContext! This warning can be ignored when running in bare mode.\n",
      "2025-08-31 04:21:36.542 Thread 'MainThread': missing ScriptRunContext! This warning can be ignored when running in bare mode.\n",
      "2025-08-31 04:21:36.542 Thread 'MainThread': missing ScriptRunContext! This warning can be ignored when running in bare mode.\n",
      "2025-08-31 04:21:36.543 Thread 'MainThread': missing ScriptRunContext! This warning can be ignored when running in bare mode.\n",
      "2025-08-31 04:21:36.543 Thread 'MainThread': missing ScriptRunContext! This warning can be ignored when running in bare mode.\n",
      "2025-08-31 04:21:36.544 Thread 'MainThread': missing ScriptRunContext! This warning can be ignored when running in bare mode.\n",
      "2025-08-31 04:21:36.544 Thread 'MainThread': missing ScriptRunContext! This warning can be ignored when running in bare mode.\n",
      "2025-08-31 04:21:36.545 Thread 'MainThread': missing ScriptRunContext! This warning can be ignored when running in bare mode.\n",
      "2025-08-31 04:21:36.545 Thread 'MainThread': missing ScriptRunContext! This warning can be ignored when running in bare mode.\n",
      "2025-08-31 04:21:36.546 Thread 'MainThread': missing ScriptRunContext! This warning can be ignored when running in bare mode.\n",
      "2025-08-31 04:21:36.546 Thread 'MainThread': missing ScriptRunContext! This warning can be ignored when running in bare mode.\n",
      "2025-08-31 04:21:36.546 Thread 'MainThread': missing ScriptRunContext! This warning can be ignored when running in bare mode.\n",
      "2025-08-31 04:21:36.547 Thread 'MainThread': missing ScriptRunContext! This warning can be ignored when running in bare mode.\n"
     ]
    }
   ],
   "source": [
    "# Streamlit UI for Collaborative Filtering\n",
    "book_input_cf = st.text_input(\"Collaborative Filtering Book Title\", \"Harry Potter and the Sorcerer's Stone\")\n",
    "if st.button(\"Get Collaborative Recommendations\"):\n",
    "    recs_cf = recommend(book_input_cf)\n",
    "    if isinstance(recs_cf, list):\n",
    "        for rec in recs_cf:\n",
    "            st.write(f\"Recommended Book: {rec[0]}, Author: {rec[1]}\")\n",
    "    else:\n",
    "        st.write(recs_cf)\n",
    "st.write(\"Note: More ratings improve recommendations.\")"
   ]
  }
 ],
 "metadata": {
  "kernelspec": {
   "display_name": "Python 3 (ipykernel)",
   "language": "python",
   "name": "python3"
  },
  "language_info": {
   "codemirror_mode": {
    "name": "ipython",
    "version": 3
   },
   "file_extension": ".py",
   "mimetype": "text/x-python",
   "name": "python",
   "nbconvert_exporter": "python",
   "pygments_lexer": "ipython3",
   "version": "3.13.5"
  }
 },
 "nbformat": 4,
 "nbformat_minor": 5
}
